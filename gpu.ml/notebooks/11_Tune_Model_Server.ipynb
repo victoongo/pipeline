{
 "cells": [
  {
   "cell_type": "markdown",
   "metadata": {},
   "source": [
    "# Tune the Model Server"
   ]
  },
  {
   "cell_type": "markdown",
   "metadata": {},
   "source": [
    "## Open a Terminal through Jupyter Notebook \n",
    "### (Menu Bar -> Terminal -> New Terminal)\n",
    "![Jupyter Terminal](https://s3.amazonaws.com/fluxcapacitor.com/img/jupyter-terminal.png)\n"
   ]
  },
  {
   "cell_type": "markdown",
   "metadata": {},
   "source": [
    "## Load Test CPU Model"
   ]
  },
  {
   "cell_type": "markdown",
   "metadata": {},
   "source": [
    "### Start Load Test in the Terminal\n",
    "```\n",
    "loadtest high\n",
    "```\n",
    "\n",
    "The params are as follows:\n",
    "* `1: amount of load low|medium|high`\n",
    "\n",
    "Notice the throughput and avg/min/max latencies:\n",
    "```\n",
    "summary ... =  400.2/s Avg:   249 Min:   230 Max:   286 Err:     0 (0.00%)\n",
    "```"
   ]
  },
  {
   "cell_type": "markdown",
   "metadata": {},
   "source": [
    "## Load Test GPU Model"
   ]
  },
  {
   "cell_type": "markdown",
   "metadata": {},
   "source": [
    "### Restart Model Server with GPU Model\n",
    "`<ctrl-c>` in the load test terminal\n",
    "\n",
    "`<ctrl-c>` in the model server terminal\n",
    "```\n",
    "serve 9000 linear /root/models/linear/gpu/ false\n",
    "```\n",
    "\n",
    "The params are as follows:\n",
    "* `1: port number (int)`\n",
    "\n",
    "* `2: model_name (anything)`\n",
    "\n",
    "* `3: /path/to/model (base path above all version sub-directories)`\n",
    "\n",
    "* `4: request batching (true|false)`\n"
   ]
  },
  {
   "cell_type": "markdown",
   "metadata": {},
   "source": [
    "### Start Load Test in the Terminal\n",
    "```\n",
    "loadtest high\n",
    "```\n",
    "\n",
    "Notice the throughput and avg/min/max latencies:\n",
    "```\n",
    "summary ... =  318.5/s Avg:   313 Min:   287 Max:   409 Err:     0 (0.00%)\n",
    "```"
   ]
  },
  {
   "cell_type": "markdown",
   "metadata": {},
   "source": [
    "### Watch GPU During Load Test\n",
    "```\n",
    "watch -n 1 nvidia-smi\n",
    "```"
   ]
  },
  {
   "cell_type": "markdown",
   "metadata": {},
   "source": [
    "## Load Test CPU Model + Request Batching"
   ]
  },
  {
   "cell_type": "markdown",
   "metadata": {},
   "source": [
    "### Restart Model Server with GPU Model\n",
    "`<ctrl-c>` in the load test terminal\n",
    "\n",
    "`<ctrl-c>` in the model server terminal\n",
    "```\n",
    "serve 9000 linear /root/models/linear/cpu/ true\n",
    "```\n",
    "\n",
    "The params are as follows:\n",
    "* `1: port number (int)`\n",
    "\n",
    "* `2: model_name (anything)`\n",
    "\n",
    "* `3: /path/to/model (base path above all version sub-directories)`\n",
    "\n",
    "* `4: request batching (true|false)`\n"
   ]
  },
  {
   "cell_type": "markdown",
   "metadata": {},
   "source": [
    "### Start Load Test in the Terminal\n",
    "```\n",
    "loadtest high\n",
    "```\n",
    "\n",
    "Notice the throughput and avg/min/max latencies:\n",
    "```\n",
    "summary ... =  301.1/s Avg:   227 Min:     3 Max:   456 Err:     0 (0.00%)\n",
    "```"
   ]
  },
  {
   "cell_type": "markdown",
   "metadata": {},
   "source": [
    "## Load Test GPU Model + Request Batching"
   ]
  },
  {
   "cell_type": "markdown",
   "metadata": {},
   "source": [
    "### Restart Model Server with GPU Model\n",
    "`<ctrl-c>` in the load test terminal\n",
    "\n",
    "`<ctrl-c>` in the model server terminal\n",
    "```\n",
    "serve 9000 linear /root/models/linear/gpu/ true\n",
    "```\n",
    "\n",
    "The params are as follows:\n",
    "* `1: port number (int)`\n",
    "\n",
    "* `2: model_name (anything)`\n",
    "\n",
    "* `3: /path/to/model (base path above all version sub-directories)`\n",
    "\n",
    "* `4: request batching (true|false)`\n"
   ]
  },
  {
   "cell_type": "markdown",
   "metadata": {},
   "source": [
    "### Start Load Test in the Terminal\n",
    "```\n",
    "loadtest high\n",
    "```\n",
    "\n",
    "Notice the throughput and avg/min/max latencies:\n",
    "```\n",
    "summary ... =  260.1/s Avg:   264 Min:     5 Max:   508 Err:     0 (0.00%)\n",
    "```"
   ]
  }
 ],
 "metadata": {
  "kernelspec": {
   "display_name": "Python [default]",
   "language": "python",
   "name": "python3"
  },
  "language_info": {
   "codemirror_mode": {
    "name": "ipython",
    "version": 3
   },
   "file_extension": ".py",
   "mimetype": "text/x-python",
   "name": "python",
   "nbconvert_exporter": "python",
   "pygments_lexer": "ipython3",
   "version": "3.5.3"
  }
 },
 "nbformat": 4,
 "nbformat_minor": 2
}
