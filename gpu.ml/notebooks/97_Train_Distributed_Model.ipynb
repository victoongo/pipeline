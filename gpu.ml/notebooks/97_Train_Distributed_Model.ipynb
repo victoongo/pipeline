{
 "cells": [
  {
   "cell_type": "markdown",
   "metadata": {},
   "source": [
    "# Train Model on Distributed Cluster"
   ]
  },
  {
   "cell_type": "markdown",
   "metadata": {},
   "source": [
    "## Define Cluster Spec"
   ]
  },
  {
   "cell_type": "code",
   "execution_count": 1,
   "metadata": {},
   "outputs": [],
   "source": [
    "import tensorflow as tf\n",
    "\n",
    "cluster = tf.train.ClusterSpec({\"local\": [\"localhost:2222\", \"localhost:2223\"]})"
   ]
  },
  {
   "cell_type": "markdown",
   "metadata": {},
   "source": [
    "## Start Server \"Task 0\" (localhost:2222)"
   ]
  },
  {
   "cell_type": "code",
   "execution_count": 2,
   "metadata": {},
   "outputs": [
    {
     "name": "stdout",
     "output_type": "stream",
     "text": [
      "<tensorflow.python.training.server_lib.Server object at 0x7fc0639797b8>\n"
     ]
    }
   ],
   "source": [
    "server0 = tf.train.Server(cluster, job_name=\"local\", task_index=0)\n",
    "\n",
    "print(server0)"
   ]
  },
  {
   "cell_type": "markdown",
   "metadata": {},
   "source": [
    "## Start Server \"Task 1\" (localhost:2223)"
   ]
  },
  {
   "cell_type": "code",
   "execution_count": 3,
   "metadata": {},
   "outputs": [
    {
     "name": "stdout",
     "output_type": "stream",
     "text": [
      "<tensorflow.python.training.server_lib.Server object at 0x7fc063980f28>\n"
     ]
    }
   ],
   "source": [
    "server1 = tf.train.Server(cluster, job_name=\"local\", task_index=1)\n",
    "\n",
    "print(server1)"
   ]
  },
  {
   "cell_type": "markdown",
   "metadata": {},
   "source": [
    "## Define a Computationally-intensive TensorFlow Graph"
   ]
  },
  {
   "cell_type": "code",
   "execution_count": 13,
   "metadata": {},
   "outputs": [],
   "source": [
    "import tensorflow as tf\n",
    "import datetime\n",
    "import numpy as np\n",
    "\n",
    "n = 2\n",
    "c1 = tf.Variable([])\n",
    "c2 = tf.Variable([])\n",
    "\n",
    "def matpow(M, n):\n",
    "    if n < 1: \n",
    "        return M\n",
    "    else:\n",
    "        return tf.matmul(M, matpow(M, n-1))"
   ]
  },
  {
   "cell_type": "markdown",
   "metadata": {},
   "source": [
    "## Assign Devices Manually "
   ]
  },
  {
   "cell_type": "markdown",
   "metadata": {},
   "source": [
    "### All CPU Devices\n",
    "Note the execution time."
   ]
  },
  {
   "cell_type": "code",
   "execution_count": 17,
   "metadata": {},
   "outputs": [
    {
     "name": "stdout",
     "output_type": "stream",
     "text": [
      "[[  8.06669482e+03   1.98840781e+04   2.59456055e+04 ...,  -1.05382949e+04\n",
      "    2.17728613e+03  -1.08155969e+03]\n",
      " [ -1.37961562e+04   2.33915625e+04   1.54497617e+04 ...,   1.04375918e+04\n",
      "   -1.53179043e+04   1.20189941e+04]\n",
      " [  9.67124414e+03   1.12005645e+04   2.62229941e+04 ...,  -7.41832715e+03\n",
      "   -5.12368652e+02   2.34161426e+04]\n",
      " ..., \n",
      " [ -1.59691467e+03   1.64786194e+02   1.12370107e+04 ...,   2.95887378e+03\n",
      "    4.91890723e+03   6.33641113e+03]\n",
      " [ -3.10643281e+04   2.17878662e+03  -1.46538848e+04 ...,   2.06148975e+03\n",
      "   -1.67480703e+04   3.95390625e+01]\n",
      " [ -7.99488135e+03  -8.46742383e+03  -4.03039727e+04 ...,  -1.61571033e+03\n",
      "   -8.50556738e+03   7.80693604e+02]]\n",
      "Execution time: 0:00:38.643086\n",
      "[[ -3.14939355e+03   2.78959609e+04   1.18435742e+03 ...,   2.07224688e+04\n",
      "   -2.66485156e+03   5.40588574e+03]\n",
      " [  6.98263867e+03  -2.49192070e+04  -6.78605029e+03 ...,   7.31186719e+03\n",
      "   -8.07101904e+03  -1.76662031e+04]\n",
      " [  3.75623945e+04   1.08512695e+02   1.21396152e+04 ...,   1.53412129e+04\n",
      "   -3.22479932e+03   7.59463770e+03]\n",
      " ..., \n",
      " [  2.99812354e+03   2.10295410e+01   2.01406836e+03 ...,   2.10960684e+04\n",
      "   -2.30343359e+03   2.42209434e+04]\n",
      " [ -1.06814961e+04   1.74765039e+03  -1.00455156e+04 ...,   2.53731816e+04\n",
      "    1.25507676e+04  -1.45726865e+04]\n",
      " [  1.75790137e+04   1.38573213e+04   1.49725312e+04 ...,   1.33106641e+04\n",
      "    1.32904805e+04   9.31805078e+03]]\n",
      "Execution time: 0:00:39.581808\n"
     ]
    }
   ],
   "source": [
    "with tf.device(\"/job:local/task:0/cpu:0\"):\n",
    "    A = tf.random_normal(shape=[10000, 10000])\n",
    "    c1 = matpow(A,n)\n",
    "\n",
    "with tf.device(\"/job:local/task:1/cpu:0\"):\n",
    "    B = tf.random_normal(shape=[10000, 10000])\n",
    "    c2 = matpow(B,n)\n",
    "\n",
    "with tf.Session(\"grpc://127.0.0.1:2222\") as sess:\n",
    "    sum = c1 + c2\n",
    "    start_time = datetime.datetime.now()\n",
    "    print(sess.run(sum))\n",
    "    print(\"Execution time: \" \n",
    "          + str(datetime.datetime.now() - start_time))\n",
    "          "
   ]
  },
  {
   "cell_type": "markdown",
   "metadata": {},
   "source": [
    "### CPU and GPU\n",
    "Note the execution time."
   ]
  },
  {
   "cell_type": "code",
   "execution_count": 20,
   "metadata": {},
   "outputs": [
    {
     "name": "stdout",
     "output_type": "stream",
     "text": [
      "[[-11153.16210938  -9110.88671875 -18038.21289062 ...,  -6553.86132812\n",
      "    9058.89746094   -503.43164062]\n",
      " [ -6129.02929688  25932.4375       5949.13232422 ...,    976.45605469\n",
      "   -2700.015625    19676.55078125]\n",
      " [ 13264.51953125  20145.62695312  14674.35253906 ...,  -1021.64990234\n",
      "     291.12854004 -14559.21289062]\n",
      " ..., \n",
      " [-17108.984375      299.73730469 -19944.95507812 ...,  27386.06835938\n",
      "    5067.86376953 -10734.08984375]\n",
      " [   482.88574219 -20873.68164062 -14998.39648438 ...,  -3522.890625\n",
      "  -15539.8125     -24584.39257812]\n",
      " [ -9291.37695312   8291.29394531  -8054.63476562 ...,   5531.68554688\n",
      "  -20168.13085938   5089.35205078]]\n",
      "Execution time: 0:00:21.550157\n"
     ]
    }
   ],
   "source": [
    "with tf.device(\"/job:local/task:0/gpu:0\"):\n",
    "    A = tf.random_normal(shape=[10000, 10000])\n",
    "    c1 = matpow(A,n)\n",
    "\n",
    "with tf.device(\"/job:local/task:1/cpu:0\"):\n",
    "    B = tf.random_normal(shape=[10000, 10000])\n",
    "    c2 = matpow(B,n)\n",
    "\n",
    "with tf.Session(\"grpc://127.0.0.1:2222\") as sess:\n",
    "    sum = c1 + c2\n",
    "    start_time = datetime.datetime.now()\n",
    "    print(sess.run(sum))\n",
    "    print(\"Execution time: \" \n",
    "          + str(datetime.datetime.now() - start_time))"
   ]
  },
  {
   "cell_type": "markdown",
   "metadata": {},
   "source": [
    "### All GPU Devices\n",
    "Note the execution time."
   ]
  },
  {
   "cell_type": "code",
   "execution_count": 18,
   "metadata": {},
   "outputs": [
    {
     "name": "stdout",
     "output_type": "stream",
     "text": [
      "[[ 317566.59375    -600115.875       572440.875      ..., -767323.0625\n",
      "  -732039.          -29518.16796875]\n",
      " [ -71233.4375     -931581.9375      122241.8359375  ...,  224599.515625\n",
      "  -890797.5         553153.9375    ]\n",
      " [ 131152.078125   -680631.5625      -64531.26171875 ...,  -32352.26171875\n",
      "   667255.75       -509656.5625    ]\n",
      " ..., \n",
      " [ -13648.36816406   13166.90136719   10610.7265625  ...,   21194.78320312\n",
      "   -10224.09082031   12267.98535156]\n",
      " [  -2338.078125     14536.25292969   -7216.79052734 ...,  -14411.16113281\n",
      "    11336.85839844  -48624.421875  ]\n",
      " [ -15214.82519531    3822.67333984  -12475.60449219 ...,   -9641.03613281\n",
      "    -5436.52050781   12227.578125  ]]\n",
      "Execution time: 0:00:09.848365\n"
     ]
    }
   ],
   "source": [
    "with tf.device(\"/job:local/task:0/gpu:0\"):\n",
    "    A = tf.random_normal(shape=[10000, 10000])\n",
    "    c1 = matpow(A,n)\n",
    "\n",
    "with tf.device(\"/job:local/task:1/gpu:0\"):\n",
    "    B = tf.random_normal(shape=[10000, 10000])\n",
    "    c2 = matpow(B,n)\n",
    "\n",
    "with tf.Session(\"grpc://127.0.0.1:2222\") as sess:\n",
    "    sum = c1 + c2\n",
    "    start_time = datetime.datetime.now()\n",
    "    print(sess.run(sum))\n",
    "    print(\"Execution time: \" \n",
    "          + str(datetime.datetime.now() - start_time))"
   ]
  },
  {
   "cell_type": "markdown",
   "metadata": {},
   "source": [
    "### Auto-assign Device by TensorFlow (Round-Robin by Default)\n",
    "Note the execution time."
   ]
  },
  {
   "cell_type": "code",
   "execution_count": 10,
   "metadata": {},
   "outputs": [
    {
     "name": "stdout",
     "output_type": "stream",
     "text": [
      "[[  3825.11035156  16507.63671875   1743.14160156 ..., -15750.22558594\n",
      "   -6879.64208984  18151.4140625 ]\n",
      " [ 18579.79296875  10003.78125       192.5947876  ...,  -8365.53808594\n",
      "    2745.18457031 -22178.72265625]\n",
      " [-17603.28710938  -1997.83166504 -15371.70703125 ...,  -7219.47558594\n",
      "   -3515.5949707    1374.12060547]\n",
      " ..., \n",
      " [ 12190.2578125   10308.515625    19632.62304688 ...,   5232.08691406\n",
      "  -18584.37890625  14044.14257812]\n",
      " [ 32060.06640625 -14041.76269531  25165.88671875 ..., -25889.4375\n",
      "  -13885.19238281    241.92675781]\n",
      " [ 16637.23828125 -25647.38476562  -4619.76611328 ...,   -319.69140625\n",
      "   10786.5546875   19262.70117188]]\n",
      "Multi node computation time: 0:00:06.779253\n"
     ]
    }
   ],
   "source": [
    "# Let TensorFlow decide the device placement\n",
    "with tf.device(tf.train.replica_device_setter(worker_device=\"/job:worker/task:0\",\n",
    "                                              cluster=cluster)):\n",
    "    A = tf.random_normal(shape=[10000, 10000])\n",
    "    c1 = matpow(A,n)\n",
    "\n",
    "with tf.device(tf.train.replica_device_setter(worker_device=\"/job:worker/task:1\",\n",
    "                                              cluster=cluster)):\n",
    "    B = tf.random_normal(shape=[10000, 10000])\n",
    "    c2 = matpow(B,n)\n",
    "\n",
    "with tf.Session(\"grpc://127.0.0.1:2222\") as sess:\n",
    "    sum = c1 + c2\n",
    "    start_time = datetime.datetime.now()\n",
    "    print(sess.run(sum))\n",
    "    print(\"Multi node computation time: \" \n",
    "          + str(datetime.datetime.now() - start_time))"
   ]
  },
  {
   "cell_type": "code",
   "execution_count": null,
   "metadata": {},
   "outputs": [],
   "source": []
  }
 ],
 "metadata": {
  "kernelspec": {
   "display_name": "Python [default]",
   "language": "python",
   "name": "python3"
  },
  "language_info": {
   "codemirror_mode": {
    "name": "ipython",
    "version": 3
   },
   "file_extension": ".py",
   "mimetype": "text/x-python",
   "name": "python",
   "nbconvert_exporter": "python",
   "pygments_lexer": "ipython3",
   "version": "3.5.3"
  }
 },
 "nbformat": 4,
 "nbformat_minor": 2
}
